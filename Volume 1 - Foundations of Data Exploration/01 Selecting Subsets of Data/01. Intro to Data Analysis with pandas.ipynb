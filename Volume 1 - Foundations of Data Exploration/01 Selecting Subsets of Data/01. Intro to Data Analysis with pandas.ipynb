{
 "cells": [
  {
   "cell_type": "raw",
   "metadata": {},
   "source": [
    "\\part{Selecting Subsets of Data}"
   ]
  },
  {
   "cell_type": "markdown",
   "metadata": {},
   "source": [
    "# Intro to Data Analysis with pandas\n",
    "\n",
    "## Overview\n",
    "\n",
    "### Objectives\n",
    "\n",
    "+ Know why pandas is suitable for data analysis in Python\n",
    "+ Identify a DataFrame as a two-dimensional data structure with an **index**, **columns**, and **values**\n",
    "+ Identify a Series as a single dimensional data structure with an **index** and **values**\n",
    "+ Know the difference between the **index** and **values**\n",
    "\n",
    "### Resources\n",
    "\n",
    "+ [Official Documentation](http://pandas.pydata.org/pandas-docs/stable/)\n",
    "+ [Package Overview](http://pandas.pydata.org/pandas-docs/stable/overview.html)\n",
    "+ [Intro to Data Structures](http://pandas.pydata.org/pandas-docs/stable/dsintro.html)\n",
    "\n",
    "## Welcome to ....\n",
    "![][1]\n",
    "\n",
    "\n",
    "### What is pandas?\n",
    "pandas is one of the most popular open source data exploration libraries currently available. It gives its users the power to explore, manipulate, query, aggregate, and visualize **tabular** data. Tabular meaning data that is two-dimensional with rows and columns; i.e. a table.\n",
    "\n",
    "### Why pandas and not xyz?\n",
    "In this current age of data explosion, there are now many dozens of other tools that have many of the same capabilities as the pandas library. However, there are many aspects of pandas that make it an attractive choice for data analysis and it continues to have one of the fastest growing user bases.\n",
    "\n",
    "* It's a Python library and integrates well with the other popular data science libraries such as numpy, scikit-learn, statsmodels, matplotlib and seaborn.\n",
    "* It is nearly self-contained in that lots of functionality is built into one package. This contrasts with R, where many packages are needed to obtain the same functionality.\n",
    "* The community is excellent. Looking at Stack Overflow, for example, there are [many ten's of thousands of][2] pandas questions. If you need help, you are nearly guaranteed to find it very quickly. \n",
    "\n",
    "### Why is it named after an East Asian bear?\n",
    "\n",
    "The pandas library was begun by Wes McKinney beginning in 2008 at a hedge fund named AQR. Finance speak is to call tabular data 'panel data' which smashed together becomes pandas. If you are really interested in the history, you can hear it from the creator [himself][3].\n",
    "\n",
    "### Python already has data structures to handle data, why do we need another one?\n",
    "\n",
    "Even though Python is a high-level language, its primary built-in data structures lists and dictionaries, do not easily lend themselves to tabular data analysis in ways that humans can operate on them. \n",
    "\n",
    "### pandas is built directly on numpy\n",
    "\n",
    "[numpy][4] ('numerical Python') is the most popular third-party Python library for scientific computing and forms the foundation for dozens of others, including pandas. numpy's primary data structure is an n-dimensional array which is much more powerful than a Python list and with much better performance.\n",
    "\n",
    "All of the data in pandas is stored in numpy arrays. That said, it isn't necessary to know much about numpy when learning pandas. You can think of pandas as a higher-level, easier to use interface for doing data analysis than numpy. It is a good idea to eventually learn numpy, but for most tasks, pandas will be the right tool.\n",
    "\n",
    "### numpy tutorial in appendix\n",
    "\n",
    "Although it is not necessary to understand numpy to perform data analysis with pandas, it is a major piece of the data science ecosystem in Python and it can be used alongside pandas. A thorough numpy tutorial is available in Appendix A.\n",
    "\n",
    "## pandas operates on tabular (table) data\n",
    "\n",
    "There are numerous formats for data such as XML, JSON, raw bytes, and many others. But, for our purposes, we will only be examining what most people think of when they think of data - a table. pandas is built just for analyzing this tabular, rectangular, very deceptively normal concept of data. pandas has the capability to read in many different formats of data, but they all will be converted to tabular data.\n",
    "\n",
    "### The DataFrame and Series\n",
    "\n",
    "The DataFrame and Series are the two primary pandas objects that we will be using throughout this course.\n",
    "\n",
    "* **DataFrame** - A two-dimensional data structure that looks like any other rectangular table of data you have seen with rows and columns.\n",
    "* **Series** - A single dimension of data. It is analogous to a single column of data or a one dimensional array.\n",
    "\n",
    "## Import pandas and read in data with the `read_csv` function\n",
    "\n",
    "By convention, pandas is imported and aliased as `pd`. We will read in the `bikes` dataset with the `read_csv` function. Its first parameter is the location of the file relative to the current directory as a string. All of the data for this course is stored in the `data` directory one level above where this notebook is located. The two dots in the path passed to `read_csv` are interpreted as the directory immediately above the current one.\n",
    "\n",
    "[1]: images/pandas_logo.png\n",
    "[2]: http://stackoverflow.com/questions/tagged/pandas\n",
    "[3]: https://www.youtube.com/watch?v=kHdkFyGCxiY\n",
    "[4]: http://www.numpy.org/"
   ]
  },
  {
   "cell_type": "code",
   "execution_count": null,
   "metadata": {},
   "outputs": [],
   "source": [
    "import pandas as pd\n",
    "bikes = pd.read_csv('../data/bikes.csv')"
   ]
  },
  {
   "cell_type": "markdown",
   "metadata": {},
   "source": [
    "### Display DataFrame in Jupyter Notebook\n",
    "We assigned the output from the `read_csv` function to the `bikes` variable which now refers to our DataFrame object. Let's get a visual display of our DataFrame by writing the variable name as the last line in a code cell."
   ]
  },
  {
   "cell_type": "code",
   "execution_count": null,
   "metadata": {},
   "outputs": [],
   "source": [
    "bikes"
   ]
  },
  {
   "cell_type": "markdown",
   "metadata": {},
   "source": [
    "### Default output\n",
    "pandas defaults to outputting 60 rows and 20 columns. These display options (and many others) can be changed. This will be covered later.\n",
    "\n",
    "## Our first methods - `head` and `tail`\n",
    "A very useful and simple method is `head`, which by default will return the first 5 rows of the DataFrame. This avoids long default output and is something I highly recommend when doing data analysis within a notebook. The `tail` method returns the last 5 rows by default."
   ]
  },
  {
   "cell_type": "code",
   "execution_count": null,
   "metadata": {},
   "outputs": [],
   "source": [
    "bikes.head()"
   ]
  },
  {
   "cell_type": "code",
   "execution_count": null,
   "metadata": {},
   "outputs": [],
   "source": [
    "bikes.tail()"
   ]
  },
  {
   "cell_type": "markdown",
   "metadata": {},
   "source": [
    "### First and Last `n` rows\n",
    "Both the `head` and `tail` methods take a single integer parameter `n`, which controls the number of rows to return. "
   ]
  },
  {
   "cell_type": "code",
   "execution_count": null,
   "metadata": {},
   "outputs": [],
   "source": [
    "bikes.head(3)"
   ]
  },
  {
   "cell_type": "markdown",
   "metadata": {},
   "source": [
    "## Components of a DataFrame - columns, index, and data\n",
    "The DataFrame is composed of three separate components that you must know. The **columns**, the **index**, and the **data**. These terms will be used throughout the course and understanding them is vital to your ability to use pandas. Take a look at the following graphic of our `bikes` DataFrame stylized to put emphasis on each component.\n",
    "\n",
    "![][1]\n",
    "\n",
    "[1]: images/df_components.png"
   ]
  },
  {
   "cell_type": "markdown",
   "metadata": {},
   "source": [
    "* The **index** provides a label for each row\n",
    "* The **columns** provide a label for each column\n",
    "* The **index** is also referred to as the **row names/labels**\n",
    "* The **columns** are also referred to as the **column names/labels** or the **column index**\n",
    "* An individual element of the index is referred to as an **index label/name** or **row label/name**\n",
    "* An individual element of the columns is a **column name/label**\n",
    "* The index and the columns are always in **bold font**\n",
    "* Collectively the index and the columns are known as the **axes** (or individually as an **axis**)\n",
    "* pandas uses integers to refer to each axis; 0 for the index and 1 for the columns. This is borrowed directly from numpy\n",
    "* The actual **data** is always in normal font\n",
    "* The **data** is also referred to as the **values**"
   ]
  },
  {
   "cell_type": "markdown",
   "metadata": {},
   "source": [
    "## What type of object is `bikes`\n",
    "As we said previously, `bikes` is a DataFrame. Let's verify this:"
   ]
  },
  {
   "cell_type": "code",
   "execution_count": null,
   "metadata": {},
   "outputs": [],
   "source": [
    "type(bikes)"
   ]
  },
  {
   "cell_type": "markdown",
   "metadata": {},
   "source": [
    "### Fully-qualified name\n",
    "Only the word after the last dot is the class name. The `bikes` variable has type `DataFrame`. Python always returns the location and module name of where the class was defined. \n",
    "\n",
    "### Location and module name?\n",
    "The fully-qualified name holds the location in your computer where the class is defined. In this example, `pandas` is a directory that contains another directory `core` which contains a file `frame.py` which defines the `DataFrame` class.\n",
    "\n",
    "### Package, sub-package, and module\n",
    "The top level directory of other files and directories containing Python files is technically called a **package**. In this example `pandas` is the package. All directories within the package are called **sub-packages** such as `core`. All Python files (those ending in .py) are called **modules**.\n",
    "\n",
    "### Where are the packages located?\n",
    "Third-party packages are installed in the `site-packages` directory which itself is set up during Python installation. We can get the actual location with the help of the built-in `site` module's `getsitepackages` \n",
    "function."
   ]
  },
  {
   "cell_type": "code",
   "execution_count": null,
   "metadata": {},
   "outputs": [],
   "source": [
    "import site\n",
    "site.getsitepackages()"
   ]
  },
  {
   "cell_type": "markdown",
   "metadata": {},
   "source": [
    "## Select a single column from a DataFrame - a Series\n",
    "To select a single column from a DataFrame, pass the name of one of the columns to the brackets operator, `[]`. The returned object will be a pandas **Series**. Let's select the column name `tripduration`, assign it to a variable, and output it to the screen."
   ]
  },
  {
   "cell_type": "code",
   "execution_count": null,
   "metadata": {},
   "outputs": [],
   "source": [
    "trip_duration = bikes['tripduration']\n",
    "trip_duration"
   ]
  },
  {
   "cell_type": "markdown",
   "metadata": {},
   "source": [
    "## `head` and `tail` methods work the same with a Series\n",
    "Use the **`head`** and **`tail`** methods to condense the output."
   ]
  },
  {
   "cell_type": "code",
   "execution_count": null,
   "metadata": {},
   "outputs": [],
   "source": [
    "trip_duration.tail(3)"
   ]
  },
  {
   "cell_type": "markdown",
   "metadata": {},
   "source": [
    "## Components of a Series - the index and the data\n",
    "A Series is simpler than a DataFrame with just a single dimension of data. It has two components - the **index** and the **data**. It is essentially a one-column DataFrame. Let's take a look at a stylized Series graphic.\n",
    "\n",
    "![](images/series_components.png)\n",
    "\n",
    "The definition for the index and data components are the same as they are for a DataFrame.\n",
    "\n",
    "### Output of Series vs DataFrame\n",
    "Notice that there is no nice HTML styling for the Series. It's just plain text. Also, below each Series will be some metadata on it - the **name**, **length**, and **dtype**. \n",
    "\n",
    "* The **name** is not important right now. If the Series is formed from a column of a DataFrame it will be set to that column name.\n",
    "* The **length** is the number of values in the Series\n",
    "* The **dtype** is the data type of the Series. Each column of data must be of only one particular data type. These will be covered later.\n",
    "\n",
    "It's important to note that this metadata is NOT part of the Series itself and is just some extra info pandas outputs for your information."
   ]
  },
  {
   "cell_type": "markdown",
   "metadata": {},
   "source": [
    "## Exercises\n",
    "Use the **`bikes`** DataFrame for the following:"
   ]
  },
  {
   "cell_type": "markdown",
   "metadata": {},
   "source": [
    "### Exercise 1\n",
    "<span  style=\"color:green; font-size:16px\">Select the column **`events`**, the type of weather that was recorded and assign it to a variable with the same name. Output the first 10 values of it.</span>"
   ]
  },
  {
   "cell_type": "code",
   "execution_count": null,
   "metadata": {},
   "outputs": [],
   "source": []
  },
  {
   "cell_type": "markdown",
   "metadata": {},
   "source": [
    "### Exercise 2\n",
    "<span  style=\"color:green; font-size:16px\">What type of object is **`events`**?</span>"
   ]
  },
  {
   "cell_type": "code",
   "execution_count": null,
   "metadata": {},
   "outputs": [],
   "source": []
  },
  {
   "cell_type": "markdown",
   "metadata": {},
   "source": [
    "### Exercise 3\n",
    "<span  style=\"color:green; font-size:16px\">Select the last 2 rows of the **`bikes`** DataFrame and assign it to the variable **`bikes_last_2`**. What type of object is **`bikes_last_2`**?</span>"
   ]
  },
  {
   "cell_type": "code",
   "execution_count": null,
   "metadata": {},
   "outputs": [],
   "source": []
  }
 ],
 "metadata": {
  "anaconda-cloud": {},
  "kernelspec": {
   "display_name": "Python 3",
   "language": "python",
   "name": "python3"
  },
  "language_info": {
   "codemirror_mode": {
    "name": "ipython",
    "version": 3
   },
   "file_extension": ".py",
   "mimetype": "text/x-python",
   "name": "python",
   "nbconvert_exporter": "python",
   "pygments_lexer": "ipython3",
   "version": "3.6.8"
  },
  "varInspector": {
   "cols": {
    "lenName": 16,
    "lenType": 16,
    "lenVar": 40
   },
   "kernels_config": {
    "python": {
     "delete_cmd_postfix": "",
     "delete_cmd_prefix": "del ",
     "library": "var_list.py",
     "varRefreshCmd": "print(var_dic_list())"
    },
    "r": {
     "delete_cmd_postfix": ") ",
     "delete_cmd_prefix": "rm(",
     "library": "var_list.r",
     "varRefreshCmd": "cat(var_dic_list()) "
    }
   },
   "types_to_exclude": [
    "module",
    "function",
    "builtin_function_or_method",
    "instance",
    "_Feature"
   ],
   "window_display": false
  }
 },
 "nbformat": 4,
 "nbformat_minor": 2
}
